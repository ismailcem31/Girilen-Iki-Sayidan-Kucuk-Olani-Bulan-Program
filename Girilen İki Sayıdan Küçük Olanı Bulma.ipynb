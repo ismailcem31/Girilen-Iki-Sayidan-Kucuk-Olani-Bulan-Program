{
 "cells": [
  {
   "cell_type": "code",
   "execution_count": null,
   "id": "1d914f65",
   "metadata": {},
   "outputs": [],
   "source": [
    "# Sayıları kullanıcıdan al\n",
    "sayi1 = int(input(\"Birinci sayıyı giriniz: \"))\n",
    "sayi2 = int(input(\"İkinci sayıyı giriniz: \"))\n",
    " \n",
    "# Küçük olan sayıyı bul\n",
    "if sayi1 < sayi2:\n",
    "    kucuk = sayi1\n",
    "else:\n",
    "    kucuk = sayi2\n",
    " \n",
    "print(\"Küçük olan sayı: \", kucuk)\n"
   ]
  }
 ],
 "metadata": {
  "kernelspec": {
   "display_name": "Python 3 (ipykernel)",
   "language": "python",
   "name": "python3"
  },
  "language_info": {
   "codemirror_mode": {
    "name": "ipython",
    "version": 3
   },
   "file_extension": ".py",
   "mimetype": "text/x-python",
   "name": "python",
   "nbconvert_exporter": "python",
   "pygments_lexer": "ipython3",
   "version": "3.11.3"
  }
 },
 "nbformat": 4,
 "nbformat_minor": 5
}
